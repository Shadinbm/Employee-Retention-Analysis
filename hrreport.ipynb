{
 "cells": [
  {
   "cell_type": "markdown",
   "id": "a9a4c1dc-244a-4e50-9e28-22b29c99e11e",
   "metadata": {},
   "source": [
    "<h1 style=\"color:red;text-align:center;\">Employee Retention Report For Hr </h1>\n"
   ]
  },
  {
   "cell_type": "code",
   "execution_count": 18,
   "id": "6de079d2-3c37-49a1-a0cd-0aac5e5a4709",
   "metadata": {},
   "outputs": [],
   "source": [
    "import pandas as pd\n",
    "import matplotlib.pyplot as plt\n",
    "from sklearn.linear_model import LogisticRegression\n",
    "from sklearn.model_selection import train_test_split\n",
    "import seaborn as sns"
   ]
  },
  {
   "cell_type": "code",
   "execution_count": 19,
   "id": "280002e7-6608-45fe-ba87-0c431e2d2fe9",
   "metadata": {},
   "outputs": [
    {
     "data": {
      "text/html": [
       "<div>\n",
       "<style scoped>\n",
       "    .dataframe tbody tr th:only-of-type {\n",
       "        vertical-align: middle;\n",
       "    }\n",
       "\n",
       "    .dataframe tbody tr th {\n",
       "        vertical-align: top;\n",
       "    }\n",
       "\n",
       "    .dataframe thead th {\n",
       "        text-align: right;\n",
       "    }\n",
       "</style>\n",
       "<table border=\"1\" class=\"dataframe\">\n",
       "  <thead>\n",
       "    <tr style=\"text-align: right;\">\n",
       "      <th></th>\n",
       "      <th>satisfaction_level</th>\n",
       "      <th>last_evaluation</th>\n",
       "      <th>number_project</th>\n",
       "      <th>average_montly_hours</th>\n",
       "      <th>time_spend_company</th>\n",
       "      <th>Work_accident</th>\n",
       "      <th>left</th>\n",
       "      <th>promotion_last_5years</th>\n",
       "      <th>Department</th>\n",
       "      <th>salary</th>\n",
       "    </tr>\n",
       "  </thead>\n",
       "  <tbody>\n",
       "    <tr>\n",
       "      <th>0</th>\n",
       "      <td>0.38</td>\n",
       "      <td>0.53</td>\n",
       "      <td>2</td>\n",
       "      <td>157</td>\n",
       "      <td>3</td>\n",
       "      <td>0</td>\n",
       "      <td>1</td>\n",
       "      <td>0</td>\n",
       "      <td>sales</td>\n",
       "      <td>low</td>\n",
       "    </tr>\n",
       "    <tr>\n",
       "      <th>1</th>\n",
       "      <td>0.80</td>\n",
       "      <td>0.86</td>\n",
       "      <td>5</td>\n",
       "      <td>262</td>\n",
       "      <td>6</td>\n",
       "      <td>0</td>\n",
       "      <td>1</td>\n",
       "      <td>0</td>\n",
       "      <td>sales</td>\n",
       "      <td>medium</td>\n",
       "    </tr>\n",
       "    <tr>\n",
       "      <th>2</th>\n",
       "      <td>0.11</td>\n",
       "      <td>0.88</td>\n",
       "      <td>7</td>\n",
       "      <td>272</td>\n",
       "      <td>4</td>\n",
       "      <td>0</td>\n",
       "      <td>1</td>\n",
       "      <td>0</td>\n",
       "      <td>sales</td>\n",
       "      <td>medium</td>\n",
       "    </tr>\n",
       "    <tr>\n",
       "      <th>3</th>\n",
       "      <td>0.72</td>\n",
       "      <td>0.87</td>\n",
       "      <td>5</td>\n",
       "      <td>223</td>\n",
       "      <td>5</td>\n",
       "      <td>0</td>\n",
       "      <td>1</td>\n",
       "      <td>0</td>\n",
       "      <td>sales</td>\n",
       "      <td>low</td>\n",
       "    </tr>\n",
       "    <tr>\n",
       "      <th>4</th>\n",
       "      <td>0.37</td>\n",
       "      <td>0.52</td>\n",
       "      <td>2</td>\n",
       "      <td>159</td>\n",
       "      <td>3</td>\n",
       "      <td>0</td>\n",
       "      <td>1</td>\n",
       "      <td>0</td>\n",
       "      <td>sales</td>\n",
       "      <td>low</td>\n",
       "    </tr>\n",
       "  </tbody>\n",
       "</table>\n",
       "</div>"
      ],
      "text/plain": [
       "   satisfaction_level  last_evaluation  number_project  average_montly_hours  \\\n",
       "0                0.38             0.53               2                   157   \n",
       "1                0.80             0.86               5                   262   \n",
       "2                0.11             0.88               7                   272   \n",
       "3                0.72             0.87               5                   223   \n",
       "4                0.37             0.52               2                   159   \n",
       "\n",
       "   time_spend_company  Work_accident  left  promotion_last_5years Department  \\\n",
       "0                   3              0     1                      0      sales   \n",
       "1                   6              0     1                      0      sales   \n",
       "2                   4              0     1                      0      sales   \n",
       "3                   5              0     1                      0      sales   \n",
       "4                   3              0     1                      0      sales   \n",
       "\n",
       "   salary  \n",
       "0     low  \n",
       "1  medium  \n",
       "2  medium  \n",
       "3     low  \n",
       "4     low  "
      ]
     },
     "execution_count": 19,
     "metadata": {},
     "output_type": "execute_result"
    }
   ],
   "source": [
    "df=pd.read_csv('hr.csv')\n",
    "df.head()"
   ]
  },
  {
   "cell_type": "code",
   "execution_count": 20,
   "id": "fd222b4e-17ae-4212-9ff6-d21fa5b0b995",
   "metadata": {},
   "outputs": [
    {
     "name": "stdout",
     "output_type": "stream",
     "text": [
      "<class 'pandas.core.frame.DataFrame'>\n",
      "RangeIndex: 14999 entries, 0 to 14998\n",
      "Data columns (total 10 columns):\n",
      " #   Column                 Non-Null Count  Dtype  \n",
      "---  ------                 --------------  -----  \n",
      " 0   satisfaction_level     14999 non-null  float64\n",
      " 1   last_evaluation        14999 non-null  float64\n",
      " 2   number_project         14999 non-null  int64  \n",
      " 3   average_montly_hours   14999 non-null  int64  \n",
      " 4   time_spend_company     14999 non-null  int64  \n",
      " 5   Work_accident          14999 non-null  int64  \n",
      " 6   left                   14999 non-null  int64  \n",
      " 7   promotion_last_5years  14999 non-null  int64  \n",
      " 8   Department             14999 non-null  object \n",
      " 9   salary                 14999 non-null  object \n",
      "dtypes: float64(2), int64(6), object(2)\n",
      "memory usage: 1.1+ MB\n"
     ]
    }
   ],
   "source": [
    "df.info()\n"
   ]
  },
  {
   "cell_type": "code",
   "execution_count": 21,
   "id": "e603317f-13df-406c-b9de-16ca9aa3c0da",
   "metadata": {},
   "outputs": [
    {
     "data": {
      "text/plain": [
       "left\n",
       "0    11428\n",
       "1     3571\n",
       "Name: count, dtype: int64"
      ]
     },
     "execution_count": 21,
     "metadata": {},
     "output_type": "execute_result"
    }
   ],
   "source": [
    "df['left'].value_counts()"
   ]
  },
  {
   "cell_type": "code",
   "execution_count": 22,
   "id": "4bcd7ae3-3519-456d-9d73-69a936644824",
   "metadata": {},
   "outputs": [
    {
     "data": {
      "text/html": [
       "<div>\n",
       "<style scoped>\n",
       "    .dataframe tbody tr th:only-of-type {\n",
       "        vertical-align: middle;\n",
       "    }\n",
       "\n",
       "    .dataframe tbody tr th {\n",
       "        vertical-align: top;\n",
       "    }\n",
       "\n",
       "    .dataframe thead th {\n",
       "        text-align: right;\n",
       "    }\n",
       "</style>\n",
       "<table border=\"1\" class=\"dataframe\">\n",
       "  <thead>\n",
       "    <tr style=\"text-align: right;\">\n",
       "      <th></th>\n",
       "      <th>satisfaction_level</th>\n",
       "      <th>last_evaluation</th>\n",
       "      <th>number_project</th>\n",
       "      <th>average_montly_hours</th>\n",
       "      <th>time_spend_company</th>\n",
       "      <th>Work_accident</th>\n",
       "      <th>promotion_last_5years</th>\n",
       "    </tr>\n",
       "    <tr>\n",
       "      <th>left</th>\n",
       "      <th></th>\n",
       "      <th></th>\n",
       "      <th></th>\n",
       "      <th></th>\n",
       "      <th></th>\n",
       "      <th></th>\n",
       "      <th></th>\n",
       "    </tr>\n",
       "  </thead>\n",
       "  <tbody>\n",
       "    <tr>\n",
       "      <th>0</th>\n",
       "      <td>0.666810</td>\n",
       "      <td>0.715473</td>\n",
       "      <td>3.786664</td>\n",
       "      <td>199.060203</td>\n",
       "      <td>3.380032</td>\n",
       "      <td>0.175009</td>\n",
       "      <td>0.026251</td>\n",
       "    </tr>\n",
       "    <tr>\n",
       "      <th>1</th>\n",
       "      <td>0.440098</td>\n",
       "      <td>0.718113</td>\n",
       "      <td>3.855503</td>\n",
       "      <td>207.419210</td>\n",
       "      <td>3.876505</td>\n",
       "      <td>0.047326</td>\n",
       "      <td>0.005321</td>\n",
       "    </tr>\n",
       "  </tbody>\n",
       "</table>\n",
       "</div>"
      ],
      "text/plain": [
       "      satisfaction_level  last_evaluation  number_project  \\\n",
       "left                                                        \n",
       "0               0.666810         0.715473        3.786664   \n",
       "1               0.440098         0.718113        3.855503   \n",
       "\n",
       "      average_montly_hours  time_spend_company  Work_accident  \\\n",
       "left                                                            \n",
       "0               199.060203            3.380032       0.175009   \n",
       "1               207.419210            3.876505       0.047326   \n",
       "\n",
       "      promotion_last_5years  \n",
       "left                         \n",
       "0                  0.026251  \n",
       "1                  0.005321  "
      ]
     },
     "execution_count": 22,
     "metadata": {},
     "output_type": "execute_result"
    }
   ],
   "source": [
    "df.groupby('left').mean(numeric_only='True')"
   ]
  },
  {
   "cell_type": "code",
   "execution_count": 23,
   "id": "aa3f6036-d803-445e-98be-7dd2d50e812f",
   "metadata": {},
   "outputs": [
    {
     "data": {
      "image/png": "[encoded data removed]",
      "text/plain": [
       "<Figure size 640x480 with 1 Axes>"
      ]
     },
     "metadata": {},
     "output_type": "display_data"
    }
   ],
   "source": [
    "sns.boxplot(x='left', y='satisfaction_level', data=df)\n",
    "plt.title(\"Satisfaction Level vs Attrition\")\n",
    "plt.show()"
   ]
  },
  {
   "cell_type": "markdown",
   "id": "500c7e31-0e94-4d2b-a9f1-48f9435f6a13",
   "metadata": {},
   "source": [
    "<h2 style=\"color:blue\";> Satisfcation Level vs Attrition</h2>\n",
    "<h3>from above grpah:-</h3>\n",
    "--employees who left have lower statisfcation"
   ]
  },
  {
   "cell_type": "code",
   "execution_count": 24,
   "id": "f688c4cc-41ff-4b5b-8c18-6a91d1afe0e4",
   "metadata": {},
   "outputs": [
    {
     "data": {
      "image/png": "[encoded data removed]",
      "text/plain": [
       "<Figure size 640x480 with 1 Axes>"
      ]
     },
     "metadata": {},
     "output_type": "display_data"
    }
   ],
   "source": [
    "sns.boxplot(x='left',y='number_project',data=df)\n",
    "plt.title(\"project vs attrition\")\n",
    "plt.show()"
   ]
  },
  {
   "cell_type": "markdown",
   "id": "2c4fe417-13d5-46ac-a4c6-5a6d8b6e4075",
   "metadata": {},
   "source": [
    "<h2 style=\"color:blue\";> Projectvs Attrition</h2>\n",
    "<h3>from above grpah:-</h3>\n",
    "--employees who left have higher project count"
   ]
  },
  {
   "cell_type": "code",
   "execution_count": 25,
   "id": "988cca27-4f70-4773-9186-32bd5909c559",
   "metadata": {},
   "outputs": [
    {
     "data": {
      "image/png": "[encoded data removed]",
      "text/plain": [
       "<Figure size 640x480 with 1 Axes>"
      ]
     },
     "metadata": {},
     "output_type": "display_data"
    }
   ],
   "source": [
    "sns.countplot(x='salary', hue='left', data=df)\n",
    "plt.title(\"Attrition by Salary Level\")\n",
    "plt.show()\n"
   ]
  },
  {
   "cell_type": "markdown",
   "id": "d2f2af49-bd26-48f3-b585-cf9e9e7394a9",
   "metadata": {},
   "source": [
    "<h2 style=\"color:Blue;\">Here Most of the lefted employees have low salary</h2>"
   ]
  },
  {
   "cell_type": "code",
   "execution_count": 26,
   "id": "4f899f08-b0d8-435f-b789-e2097b475545",
   "metadata": {},
   "outputs": [
    {
     "data": {
      "image/png": "[encoded data removed]",
      "text/plain": [
       "<Figure size 640x480 with 1 Axes>"
      ]
     },
     "metadata": {},
     "output_type": "display_data"
    }
   ],
   "source": [
    "sns.countplot(x=\"Department\",hue=\"left\",data=df)\n",
    "plt.title(\"Department vs left\")\n",
    "plt.show()"
   ]
  },
  {
   "cell_type": "markdown",
   "id": "4aa2b4c9-96b1-4475-998e-61d537aa7271",
   "metadata": {},
   "source": [
    "<p style=\"color:blue;\">Most of the left employees are in sales departmment</p>\n"
   ]
  },
  {
   "cell_type": "code",
   "execution_count": 27,
   "id": "8094eb79-48fe-45bd-b3e6-addf4dc82a6d",
   "metadata": {},
   "outputs": [
    {
     "data": {
      "text/plain": [
       "<Axes: xlabel='Department', ylabel='salary'>"
      ]
     },
     "execution_count": 27,
     "metadata": {},
     "output_type": "execute_result"
    },
    {
     "data": {
      "image/png": "[encoded data removed]",
      "text/plain": [
       "<Figure size 640x480 with 1 Axes>"
      ]
     },
     "metadata": {},
     "output_type": "display_data"
    }
   ],
   "source": [
    "sns.barplot(x=\"Department\",y=\"salary\",data=df)"
   ]
  },
  {
   "cell_type": "markdown",
   "id": "c9bdab22-b932-454f-807c-96069b075f6d",
   "metadata": {},
   "source": [
    "<h3 style=\"color:green;\"> Factors affectig Retention of sales employees</h3>\n",
    "<p style=\"color:red;\">*Sales Department has most employees<br/>\n",
    "*Sales department have lowest salary</p>"
   ]
  },
  {
   "cell_type": "markdown",
   "id": "9871133e-28b6-45ba-8f8b-007fa1a2d68b",
   "metadata": {},
   "source": [
    "<h2 style=\"color:Blue;\">Model For Predicitng Weather a Employee Will Leave or not</h2>"
   ]
  },
  {
   "cell_type": "code",
   "execution_count": 31,
   "id": "9ed7d95d-872d-4a77-9707-772953607da8",
   "metadata": {},
   "outputs": [
    {
     "name": "stdin",
     "output_type": "stream",
     "text": [
      "Enter stasfication level off employee 0.2\n",
      "Enter number of projects 5\n",
      "Enter avg monthly hrs 400\n",
      "Enter work accident 1\n"
     ]
    },
    {
     "name": "stdout",
     "output_type": "stream",
     "text": [
      "Prediction (1 = Left, 0 = Stayed): 0\n",
      "Employee  may like to stay\n"
     ]
    },
    {
     "name": "stderr",
     "output_type": "stream",
     "text": [
      "C:\\Users\\bmsha\\anaconda3\\Lib\\site-packages\\sklearn\\base.py:493: UserWarning: X does not have valid feature names, but LogisticRegression was fitted with feature names\n",
      "  warnings.warn(\n"
     ]
    }
   ],
   "source": [
    "x=df[['satisfaction_level','number_project','average_montly_hours','Work_accident']]\n",
    "y=df['left']\n",
    "ob=LogisticRegression()\n",
    "ob.fit(x,y)\n",
    "sle=float(input(\"Enter stasfication level off employee\"))\n",
    "nop=float(input('Enter number of projects'))\n",
    "avg=float(input('Enter avg monthly hrs'))\n",
    "wo=float(input('Enter work accident'))\n",
    "res=ob.predict([[sle,nop,avg,wo]])\n",
    "print(\"Prediction (1 = Left, 0 = Stayed):\", res[0])\n",
    "if res < 0.5:\n",
    "    print(\"Employee  may like to stay\")\n",
    "elif res >= 0.5:\n",
    "    print(\"Employee may like to left\")"
   ]
  },
  {
   "cell_type": "markdown",
   "id": "d43a4690-9846-46ee-a8b8-226cf6707462",
   "metadata": {},
   "source": [
    "<h2 style=\"color:green;\">Accuracy of the model</h2>"
   ]
  },
  {
   "cell_type": "code",
   "execution_count": 32,
   "id": "0f3107b3-9b02-410d-b104-5e3c68a965d7",
   "metadata": {},
   "outputs": [],
   "source": [
    "xtr,xte,ytr,ytes=train_test_split(x,y,test_size=0.2,random_state=40)\n",
    "ob.fit(xtr,ytr)\n",
    "from sklearn.metrics import accuracy_score"
   ]
  },
  {
   "cell_type": "code",
   "execution_count": 33,
   "id": "ad723136-24ff-4257-bd76-8da17ec6bc25",
   "metadata": {},
   "outputs": [
    {
     "name": "stdout",
     "output_type": "stream",
     "text": [
      "accuracy= 0.7733333333333333\n"
     ]
    }
   ],
   "source": [
    "ypred=ob.predict(xte)\n",
    "accuracyy=accuracy_score(ytes,ypred)\n",
    "print('accuracy=',accuracyy)"
   ]
  },
  {
   "cell_type": "markdown",
   "id": "b9af79df-d359-49eb-be5f-229b84b4b09b",
   "metadata": {},
   "source": [
    "<h1 style=\"color:red\">Conclusion</h1>\n",
    "<p style=\"color:blue;\">-- Most of The left employees have lower satisificaton<br/>\n",
    "--Most of the left employees have higher work pressure due to more project works<br/>\n",
    "--Most of the left employees have low salary<br/>\n",
    "--do something to encourage sales department like insentive for extra hrs<br/>\n",
    "</p>"
   ]
  }
 ],
 "metadata": {
  "kernelspec": {
   "display_name": "Python [conda env:base] *",
   "language": "python",
   "name": "conda-base-py"
  },
  "language_info": {
   "codemirror_mode": {
    "name": "ipython",
    "version": 3
   },
   "file_extension": ".py",
   "mimetype": "text/x-python",
   "name": "python",
   "nbconvert_exporter": "python",
   "pygments_lexer": "ipython3",
   "version": "3.12.7"
  }
 },
 "nbformat": 4,
 "nbformat_minor": 5
}
